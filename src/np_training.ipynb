{
 "cells": [
  {
   "cell_type": "code",
   "execution_count": 2,
   "id": "57af7ac0-03e3-41a9-b097-ab43c10532d8",
   "metadata": {},
   "outputs": [],
   "source": [
    "import numpy as np\n"
   ]
  },
  {
   "cell_type": "markdown",
   "id": "6a6e5f02-5402-4af8-976c-db6907d066a8",
   "metadata": {},
   "source": [
    "# NUMPY\n",
    "\n",
    "## Numpy is multidimentional array processing open source package, which is suitable for mathematical operations on arrays and linear algebra.\n",
    "\n",
    "## Numpy array is faster than python list, reason is :\n",
    "    1. Numpy uses fix types and less memory (less memory = faster read)\n",
    "        * Numpy by default uses int32 (4 bytes) for saving integers (the size is customizable)\n",
    "        * List uses a builtin int type which consists of 4 part (28 bytes)\n",
    "            . Size (4 bytes)\n",
    "            . Reference count (8 bytes)\n",
    "            . Object type (8 bytes)\n",
    "            . Object value (8 bytes)\n",
    "            \n",
    "    2. Every time we iterate over a numpy array python interpreter doesn't need type checking each time BUT in list for each item's type it should be checked\n",
    "\n",
    "    3. Numpy uses continues memory locations.\n",
    "        . In list, we have a list of references to diferent memory locations\n",
    "        . But a numpy array is just a reference to the first item and the others are next to each other.\n",
    "## Numpy array supports item wise methematical operations like np.array([1, 2]) * np.array([2, 3]) \n"
   ]
  },
  {
   "cell_type": "code",
   "execution_count": 30,
   "id": "9e32da73-daaf-49b3-b8e0-aaf057df9225",
   "metadata": {},
   "outputs": [],
   "source": [
    "int_arr = np.array([\n",
    "    [1.0, 2],\n",
    "    [3,5],\n",
    "    [6,7]\n",
    "], dtype='int16')"
   ]
  },
  {
   "cell_type": "code",
   "execution_count": 31,
   "id": "65746aa7-a426-415e-a7c6-970759d770d9",
   "metadata": {},
   "outputs": [
    {
     "data": {
      "text/plain": [
       "12"
      ]
     },
     "execution_count": 31,
     "metadata": {},
     "output_type": "execute_result"
    }
   ],
   "source": [
    "int_arr.ndim\n",
    "int_arr.shape\n",
    "int_arr.dtype\n",
    "int_arr.itemsize\n",
    "int_arr.size * data.itemsize\n",
    "int_arr.nbytes"
   ]
  },
  {
   "cell_type": "code",
   "execution_count": 35,
   "id": "82fcae32-d4df-4d96-ba77-80d24e7ae588",
   "metadata": {},
   "outputs": [],
   "source": [
    "float_arr = np.array([.5 , 1.1], dtype='float16')"
   ]
  },
  {
   "cell_type": "code",
   "execution_count": 40,
   "id": "d83023b0-0f7e-4c3e-a790-129e5f93f892",
   "metadata": {},
   "outputs": [
    {
     "data": {
      "text/plain": [
       "4"
      ]
     },
     "execution_count": 40,
     "metadata": {},
     "output_type": "execute_result"
    }
   ],
   "source": [
    "float_arr.dtype\n",
    "float_arr.itemsize\n",
    "float_arr.size * float_arr.itemsize\n",
    "float_arr.nbytes"
   ]
  },
  {
   "cell_type": "code",
   "execution_count": 45,
   "id": "10c12819-5560-4065-8526-06ddb0fde3b8",
   "metadata": {},
   "outputs": [],
   "source": [
    "d3_arr = np.array([\n",
    "    [[1,2,3], [4,5,6]],\n",
    "    [[7,8,9], [10,11,12]]\n",
    "])"
   ]
  },
  {
   "cell_type": "code",
   "execution_count": 49,
   "id": "2bac364c-0b6f-48c1-af9e-36e158578710",
   "metadata": {},
   "outputs": [
    {
     "data": {
      "text/plain": [
       "(6, 11)"
      ]
     },
     "execution_count": 49,
     "metadata": {},
     "output_type": "execute_result"
    }
   ],
   "source": [
    "d3_arr[0,1,2], d3_arr[1, 1, -2]"
   ]
  },
  {
   "cell_type": "code",
   "execution_count": 53,
   "id": "1d1c1971-cf12-41e4-9264-095dd8a12774",
   "metadata": {},
   "outputs": [
    {
     "data": {
      "text/plain": [
       "array([[ 7,  8,  9],\n",
       "       [10, 11, 12]])"
      ]
     },
     "execution_count": 53,
     "metadata": {},
     "output_type": "execute_result"
    }
   ],
   "source": [
    "d3_arr[1, :]"
   ]
  },
  {
   "cell_type": "code",
   "execution_count": 55,
   "id": "533fcf82-d27e-4f2b-9910-8c9de661bd60",
   "metadata": {},
   "outputs": [
    {
     "data": {
      "text/plain": [
       "array([[ 8,  9],\n",
       "       [11, 12]])"
      ]
     },
     "execution_count": 55,
     "metadata": {},
     "output_type": "execute_result"
    }
   ],
   "source": [
    "d3_arr[1, :, 1:3:1]"
   ]
  },
  {
   "cell_type": "markdown",
   "id": "950633c5-c17b-4c45-81ec-0709e70b997f",
   "metadata": {},
   "source": [
    "# Manipulation"
   ]
  },
  {
   "cell_type": "code",
   "execution_count": 58,
   "id": "2e679be0-91a8-4386-9f4f-173aa2897b26",
   "metadata": {},
   "outputs": [
    {
     "data": {
      "text/plain": [
       "array([[[200,   2,   3],\n",
       "        [  4,   5,   6]],\n",
       "\n",
       "       [[  7,   8,   9],\n",
       "        [ 10,  11,  12]]])"
      ]
     },
     "execution_count": 58,
     "metadata": {},
     "output_type": "execute_result"
    }
   ],
   "source": [
    "d3_arr[0, 0, 0] = 200\n",
    "d3_arr"
   ]
  },
  {
   "cell_type": "code",
   "execution_count": 61,
   "id": "3a3280a2-4c56-4ba9-8b20-947fde949a43",
   "metadata": {},
   "outputs": [
    {
     "data": {
      "text/plain": [
       "array([[ 4, 23,  6],\n",
       "       [10, 48, 12]])"
      ]
     },
     "execution_count": 61,
     "metadata": {},
     "output_type": "execute_result"
    }
   ],
   "source": [
    "d3_arr[:, 1, 1] = [23, 48]\n",
    "d3_arr[:, 1]"
   ]
  },
  {
   "cell_type": "markdown",
   "id": "a5742215-abdf-4b68-82c8-b56073447fd3",
   "metadata": {},
   "source": [
    "# Initialization"
   ]
  },
  {
   "cell_type": "code",
   "execution_count": 62,
   "id": "a36d2bc1-b8ef-4f64-94fa-0f92de188b44",
   "metadata": {},
   "outputs": [
    {
     "data": {
      "text/plain": [
       "array([0., 0., 0., 0., 0.])"
      ]
     },
     "execution_count": 62,
     "metadata": {},
     "output_type": "execute_result"
    }
   ],
   "source": [
    "np.zeros(5)"
   ]
  },
  {
   "cell_type": "code",
   "execution_count": 63,
   "id": "372ca841-4a4c-4d5e-9a71-d36280e2c3bb",
   "metadata": {},
   "outputs": [
    {
     "data": {
      "text/plain": [
       "array([[0., 0., 0.],\n",
       "       [0., 0., 0.]])"
      ]
     },
     "execution_count": 63,
     "metadata": {},
     "output_type": "execute_result"
    }
   ],
   "source": [
    "np.zeros((2,3))"
   ]
  },
  {
   "cell_type": "code",
   "execution_count": 68,
   "id": "02dd2c11-0c76-44d9-a70f-153321670051",
   "metadata": {},
   "outputs": [
    {
     "data": {
      "text/plain": [
       "array([[[[1., 1., 1., 1., 1.],\n",
       "         [1., 1., 1., 1., 1.],\n",
       "         [1., 1., 1., 1., 1.],\n",
       "         [1., 1., 1., 1., 1.]],\n",
       "\n",
       "        [[1., 1., 1., 1., 1.],\n",
       "         [1., 1., 1., 1., 1.],\n",
       "         [1., 1., 1., 1., 1.],\n",
       "         [1., 1., 1., 1., 1.]],\n",
       "\n",
       "        [[1., 1., 1., 1., 1.],\n",
       "         [1., 1., 1., 1., 1.],\n",
       "         [1., 1., 1., 1., 1.],\n",
       "         [1., 1., 1., 1., 1.]]],\n",
       "\n",
       "\n",
       "       [[[1., 1., 1., 1., 1.],\n",
       "         [1., 1., 1., 1., 1.],\n",
       "         [1., 1., 1., 1., 1.],\n",
       "         [1., 1., 1., 1., 1.]],\n",
       "\n",
       "        [[1., 1., 1., 1., 1.],\n",
       "         [1., 1., 1., 1., 1.],\n",
       "         [1., 1., 1., 1., 1.],\n",
       "         [1., 1., 1., 1., 1.]],\n",
       "\n",
       "        [[1., 1., 1., 1., 1.],\n",
       "         [1., 1., 1., 1., 1.],\n",
       "         [1., 1., 1., 1., 1.],\n",
       "         [1., 1., 1., 1., 1.]]]])"
      ]
     },
     "execution_count": 68,
     "metadata": {},
     "output_type": "execute_result"
    }
   ],
   "source": [
    "np.ones((2, 3, 4, 5))"
   ]
  },
  {
   "cell_type": "code",
   "execution_count": 77,
   "id": "2f14be0f-1027-4124-a857-248d900d4529",
   "metadata": {},
   "outputs": [
    {
     "data": {
      "text/plain": [
       "array([[[1, 1, 1],\n",
       "        [1, 1, 1]],\n",
       "\n",
       "       [[1, 1, 1],\n",
       "        [1, 1, 1]]])"
      ]
     },
     "execution_count": 77,
     "metadata": {},
     "output_type": "execute_result"
    }
   ],
   "source": [
    "np.ones_like(d3_arr)"
   ]
  },
  {
   "cell_type": "code",
   "execution_count": 76,
   "id": "64a73af4-2f17-4aa0-98c6-c2d8a0d14ac5",
   "metadata": {},
   "outputs": [
    {
     "data": {
      "text/plain": [
       "array([[[0, 0, 0],\n",
       "        [0, 0, 0]],\n",
       "\n",
       "       [[0, 0, 0],\n",
       "        [0, 0, 0]]])"
      ]
     },
     "execution_count": 76,
     "metadata": {},
     "output_type": "execute_result"
    }
   ],
   "source": [
    "np.zeros_like(d3_arr)"
   ]
  },
  {
   "cell_type": "code",
   "execution_count": 72,
   "id": "4b13027f-b00f-4216-91a2-62e290799cfd",
   "metadata": {},
   "outputs": [
    {
     "data": {
      "text/plain": [
       "array([[88., 88., 88.],\n",
       "       [88., 88., 88.]], dtype=float32)"
      ]
     },
     "execution_count": 72,
     "metadata": {},
     "output_type": "execute_result"
    }
   ],
   "source": [
    "np.full((2, 3), 88, dtype='float32')"
   ]
  },
  {
   "cell_type": "code",
   "execution_count": 73,
   "id": "cd78a8d1-fd46-4b3f-bb80-0ee795ec1756",
   "metadata": {},
   "outputs": [
    {
     "data": {
      "text/plain": [
       "array([[[6, 6, 6],\n",
       "        [6, 6, 6]],\n",
       "\n",
       "       [[6, 6, 6],\n",
       "        [6, 6, 6]]])"
      ]
     },
     "execution_count": 73,
     "metadata": {},
     "output_type": "execute_result"
    }
   ],
   "source": [
    "np.full_like(d3_arr, 6) # Uses d3_arr shape for creation"
   ]
  },
  {
   "cell_type": "code",
   "execution_count": 74,
   "id": "3b2b3a94-36ba-4583-b91d-fb1edbe24b96",
   "metadata": {},
   "outputs": [
    {
     "data": {
      "text/plain": [
       "array([[[99, 99, 99],\n",
       "        [99, 99, 99]],\n",
       "\n",
       "       [[99, 99, 99],\n",
       "        [99, 99, 99]]])"
      ]
     },
     "execution_count": 74,
     "metadata": {},
     "output_type": "execute_result"
    }
   ],
   "source": [
    "np.full(d3_arr.shape, 99), # Just like above"
   ]
  },
  {
   "cell_type": "code",
   "execution_count": 79,
   "id": "784824d3-0b46-4bdb-8eb2-33507cd9525b",
   "metadata": {},
   "outputs": [
    {
     "data": {
      "text/plain": [
       "array([[[0.37842133, 0.14719732, 0.76600629],\n",
       "        [0.68430418, 0.20997209, 0.2064759 ]],\n",
       "\n",
       "       [[0.74887576, 0.63289346, 0.30240857],\n",
       "        [0.87122597, 0.35873257, 0.14165578]],\n",
       "\n",
       "       [[0.29933213, 0.72108441, 0.99817502],\n",
       "        [0.72153407, 0.3677108 , 0.25577488]]])"
      ]
     },
     "execution_count": 79,
     "metadata": {},
     "output_type": "execute_result"
    }
   ],
   "source": [
    "np.random.rand(3, 2, 3)"
   ]
  },
  {
   "cell_type": "code",
   "execution_count": 84,
   "id": "6484e8eb-393f-474e-9282-74b3b70a3892",
   "metadata": {},
   "outputs": [
    {
     "data": {
      "text/plain": [
       "array([[[0.61666973, 0.09296964, 0.22129899],\n",
       "        [0.83953532, 0.11831485, 0.86286771]],\n",
       "\n",
       "       [[0.83630782, 0.86549152, 0.84268963],\n",
       "        [0.98139915, 0.95139306, 0.9910674 ]]])"
      ]
     },
     "execution_count": 84,
     "metadata": {},
     "output_type": "execute_result"
    }
   ],
   "source": [
    "np.random.random_sample(size=d3_arr.shape)"
   ]
  },
  {
   "cell_type": "code",
   "execution_count": 117,
   "id": "489ac287-f17f-4e28-978b-5bfb9ba317f4",
   "metadata": {},
   "outputs": [
    {
     "data": {
      "text/plain": [
       "array([[ 0, -4,  2],\n",
       "       [-4, -3, -3],\n",
       "       [ 2,  2,  1]])"
      ]
     },
     "execution_count": 117,
     "metadata": {},
     "output_type": "execute_result"
    }
   ],
   "source": [
    "np.random.randint(low=-4, high=7, size=(3,3))"
   ]
  },
  {
   "cell_type": "code",
   "execution_count": 118,
   "id": "f71d620f-3db0-4ab8-9ed1-42c88593cdef",
   "metadata": {},
   "outputs": [
    {
     "data": {
      "text/plain": [
       "array([[1., 0., 0., 0.],\n",
       "       [0., 1., 0., 0.],\n",
       "       [0., 0., 1., 0.],\n",
       "       [0., 0., 0., 1.]])"
      ]
     },
     "execution_count": 118,
     "metadata": {},
     "output_type": "execute_result"
    }
   ],
   "source": [
    "np.identity(4)"
   ]
  },
  {
   "cell_type": "code",
   "execution_count": 128,
   "id": "f4ea3259-4dd6-41b6-8103-8f2939f6a7e4",
   "metadata": {},
   "outputs": [
    {
     "data": {
      "text/plain": [
       "(array([[1, 2, 3],\n",
       "        [1, 2, 3]]),\n",
       " array([[1, 1, 2, 2, 3, 3]]))"
      ]
     },
     "execution_count": 128,
     "metadata": {},
     "output_type": "execute_result"
    }
   ],
   "source": [
    "arr_1 = np.array([[1, 2, 3]]) # THIS ARRAY IS 2_DIMENTIONAL\n",
    "np.repeat(arr_1, 2, axis=0), np.repeat(arr_1, 2, axis=1)"
   ]
  },
  {
   "cell_type": "markdown",
   "id": "1923de32-2758-46ee-a8ba-6eafd4eb513f",
   "metadata": {},
   "source": [
    "## Copying a numpy array is a shallow copy ( Use copy.deepcopy if the array contains mutable items)"
   ]
  },
  {
   "cell_type": "markdown",
   "id": "6640369f-abea-48c8-aaeb-a03cd2f1782a",
   "metadata": {},
   "source": [
    "dict_arr = np.array([\n",
    "    [{\"a\": \"1\"}, 1],\n",
    "    [{\"b\": \"2\"}, 2]\n",
    "])\n",
    "\n",
    "import copy\n",
    "dict_arr2 = dict_arr.copy()\n",
    "# dict_arr2 = copy.deepcopy(dict_arr)\n",
    "\n",
    "dict_arr2[1, 0]['b'] = '44444'\n",
    "dict_arr2[1, 1] = 3\n",
    "\n",
    "dict_arr2, dict_arr\n"
   ]
  },
  {
   "cell_type": "markdown",
   "id": "db6bb86b-717f-40fe-86b8-d2e62ed33c9b",
   "metadata": {},
   "source": [
    "# Element wise mathematical operations\n",
    "# For a lot more (https://docs.scipy.org/doc/numpy/reference/routines.math.html)"
   ]
  },
  {
   "cell_type": "code",
   "execution_count": 248,
   "id": "67ff7601-1205-4e0f-9856-b1474e8608f1",
   "metadata": {},
   "outputs": [],
   "source": [
    "data_arr = np.array([\n",
    "    [1, 2, 3],\n",
    "    [4, 5, 6]\n",
    "])\n",
    "\n",
    "data_arr2 = np.array([\n",
    "    [7, 8, 9],\n",
    "    [10, 11, 12]\n",
    "])\n",
    "\n"
   ]
  },
  {
   "cell_type": "code",
   "execution_count": 245,
   "id": "406e096d-cb46-48f4-a13b-e7c4766d08e3",
   "metadata": {},
   "outputs": [
    {
     "data": {
      "text/plain": [
       "array([[3, 4, 5],\n",
       "       [6, 7, 8]])"
      ]
     },
     "execution_count": 245,
     "metadata": {},
     "output_type": "execute_result"
    }
   ],
   "source": [
    "data_arr + 2"
   ]
  },
  {
   "cell_type": "code",
   "execution_count": 246,
   "id": "0babba1d-68cf-4e51-b5ad-8b1708ea0543",
   "metadata": {},
   "outputs": [
    {
     "data": {
      "text/plain": [
       "array([[ 0.84147098,  0.90929743,  0.14112001],\n",
       "       [-0.7568025 , -0.95892427, -0.2794155 ]])"
      ]
     },
     "execution_count": 246,
     "metadata": {},
     "output_type": "execute_result"
    }
   ],
   "source": [
    "np.sin(data_arr)"
   ]
  },
  {
   "cell_type": "code",
   "execution_count": 249,
   "id": "d955c671-7274-4031-bd45-b0b674d6d582",
   "metadata": {},
   "outputs": [
    {
     "data": {
      "text/plain": [
       "array([[ 8, 10, 12],\n",
       "       [14, 16, 18]])"
      ]
     },
     "execution_count": 249,
     "metadata": {},
     "output_type": "execute_result"
    }
   ],
   "source": [
    "data_arr + data_arr2"
   ]
  },
  {
   "cell_type": "markdown",
   "id": "9c481aa9-4ad0-4c0e-8cd7-7ccab4e627ed",
   "metadata": {},
   "source": [
    "# Linear Algebra\n",
    "## Reference docs (https://docs.scipy.org/doc/numpy/reference/routines.linalg.html)\n",
    "    . Determinant\n",
    "    . Trace\n",
    "    . Singular Vector Decomposition\n",
    "    . Eigenvalues\n",
    "    . Matrix Norm\n",
    "    . Inverse\n",
    "    . Etc...\n"
   ]
  },
  {
   "cell_type": "code",
   "execution_count": 252,
   "id": "45650cdb-5b40-4ef1-8d6e-bdd70bb9c6b2",
   "metadata": {},
   "outputs": [],
   "source": [
    "a = np.ones((2, 3))\n",
    "b = np.full((3,2), 5)"
   ]
  },
  {
   "cell_type": "code",
   "execution_count": 253,
   "id": "263d392a-be3a-4059-9c7b-dcce55cfe5d3",
   "metadata": {},
   "outputs": [
    {
     "data": {
      "text/plain": [
       "array([[15., 15.],\n",
       "       [15., 15.]])"
      ]
     },
     "execution_count": 253,
     "metadata": {},
     "output_type": "execute_result"
    }
   ],
   "source": [
    "np.matmul(a,b)"
   ]
  },
  {
   "cell_type": "code",
   "execution_count": 256,
   "id": "465b103f-7458-448b-be9e-179234b59a14",
   "metadata": {},
   "outputs": [],
   "source": [
    "identity_arr = np.identity(5) "
   ]
  },
  {
   "cell_type": "code",
   "execution_count": 257,
   "id": "b70c07da-da2f-4e1e-8047-026f9418e317",
   "metadata": {},
   "outputs": [
    {
     "data": {
      "text/plain": [
       "1.0"
      ]
     },
     "execution_count": 257,
     "metadata": {},
     "output_type": "execute_result"
    }
   ],
   "source": [
    "np.linalg.det(identity_arr)"
   ]
  },
  {
   "cell_type": "markdown",
   "id": "4f61a41d-bb7e-4e4f-818a-11f786404982",
   "metadata": {},
   "source": [
    "# Statistics"
   ]
  },
  {
   "cell_type": "code",
   "execution_count": 259,
   "id": "5bec453f-d737-4fc3-bf9c-78d337b9bdd9",
   "metadata": {},
   "outputs": [],
   "source": [
    "stat_arr = np.array([\n",
    "    [3, 5, 9],\n",
    "    [2, 4, 11]\n",
    "])"
   ]
  },
  {
   "cell_type": "code",
   "execution_count": 265,
   "id": "d4876d66-2dcc-4b06-9078-a19f9fb2f07b",
   "metadata": {},
   "outputs": [
    {
     "data": {
      "text/plain": [
       "(array([ 9, 11]), 11)"
      ]
     },
     "execution_count": 265,
     "metadata": {},
     "output_type": "execute_result"
    }
   ],
   "source": [
    "stat_arr.max(axis=1),  stat_arr.max()  # Take care of axis"
   ]
  },
  {
   "cell_type": "code",
   "execution_count": 264,
   "id": "941a0778-5d35-4b94-b0f5-4c9b1a7d5ce0",
   "metadata": {},
   "outputs": [
    {
     "data": {
      "text/plain": [
       "(array([2, 4, 9]), 2)"
      ]
     },
     "execution_count": 264,
     "metadata": {},
     "output_type": "execute_result"
    }
   ],
   "source": [
    "stat_arr.min(axis=0), stat_arr.min()  # Take care of axis"
   ]
  },
  {
   "cell_type": "code",
   "execution_count": 268,
   "id": "ce1a5554-83f2-48b2-a9c1-92cdcd974855",
   "metadata": {},
   "outputs": [
    {
     "data": {
      "text/plain": [
       "(34, array([ 5,  9, 20]), array([17, 17]))"
      ]
     },
     "execution_count": 268,
     "metadata": {},
     "output_type": "execute_result"
    }
   ],
   "source": [
    "np.sum(stat_arr), np.sum(stat_arr, axis=0), np.sum(stat_arr, axis=1)"
   ]
  },
  {
   "cell_type": "markdown",
   "id": "874cc04f-dafa-410b-a890-ea8c4276f992",
   "metadata": {},
   "source": [
    "# Array Organizing"
   ]
  },
  {
   "cell_type": "code",
   "execution_count": 270,
   "id": "91c5d0b9-8e31-4fd5-9b4b-cd98d06c7a6b",
   "metadata": {},
   "outputs": [],
   "source": [
    "org_arr = np.array([\n",
    "    [3, 5, 9, 23],\n",
    "    [2, 4, 11,  43]\n",
    "])"
   ]
  },
  {
   "cell_type": "code",
   "execution_count": 276,
   "id": "daa1643f-731b-4df9-9699-ff51d9749c70",
   "metadata": {},
   "outputs": [
    {
     "data": {
      "text/plain": [
       "array([[[ 3,  5],\n",
       "        [ 9, 23]],\n",
       "\n",
       "       [[ 2,  4],\n",
       "        [11, 43]]])"
      ]
     },
     "execution_count": 276,
     "metadata": {},
     "output_type": "execute_result"
    }
   ],
   "source": [
    "np.reshape(org_arr, newshape=(2,2,2))\n",
    "\n",
    "# -------------------------------------------------- \n",
    " # np.reshape(org_arr, newshape=(2,2,3)) RAISES ERROR\n",
    "# -------------------------------------------------- "
   ]
  },
  {
   "cell_type": "code",
   "execution_count": 277,
   "id": "0d46510f-417b-4dbf-beb4-ea2f2f6e7b4b",
   "metadata": {},
   "outputs": [
    {
     "data": {
      "text/plain": [
       "array([[1, 2, 3, 4],\n",
       "       [5, 6, 7, 8],\n",
       "       [1, 2, 3, 4],\n",
       "       [5, 6, 7, 8]])"
      ]
     },
     "execution_count": 277,
     "metadata": {},
     "output_type": "execute_result"
    }
   ],
   "source": [
    "\n",
    "\n",
    "# Vertically stacking vectors\n",
    "v1 = np.array([1,2,3,4])\n",
    "v2 = np.array([5,6,7,8])\n",
    "\n",
    "np.vstack([v1,v2,v1,v2])\n",
    "\n"
   ]
  },
  {
   "cell_type": "code",
   "execution_count": 279,
   "id": "59390bc9-f7a1-4fb0-b6f5-9b277dff759c",
   "metadata": {},
   "outputs": [
    {
     "data": {
      "text/plain": [
       "array([[1., 1., 1., 1., 0., 0.],\n",
       "       [1., 1., 1., 1., 0., 0.]])"
      ]
     },
     "execution_count": 279,
     "metadata": {},
     "output_type": "execute_result"
    }
   ],
   "source": [
    "# Horizontal  stack\n",
    "h1 = np.ones((2,4))\n",
    "h2 = np.zeros((2,2))\n",
    "\n",
    "np.hstack((h1,h2))"
   ]
  },
  {
   "cell_type": "markdown",
   "id": "2454aff4-f096-4b55-bf21-3d2ae6acdd9d",
   "metadata": {},
   "source": [
    "# External data source"
   ]
  },
  {
   "cell_type": "code",
   "execution_count": 290,
   "id": "4b729e3a-6e64-417b-81d7-1083f8bc1fd0",
   "metadata": {},
   "outputs": [
    {
     "name": "stdout",
     "output_type": "stream",
     "text": [
      "[[  1  13  21  11 196  75   4   3  34   6   7   8   0   1   2   3   4   5]\n",
      " [  3  42  12  33 766  75   4  55   6   4   3   4   5   6   7   0  11  12]\n",
      " [  1  22  33  11 999  11   2   1  78   0   1   2   9   8   7   1  76  88]]\n"
     ]
    }
   ],
   "source": [
    "data_from_file = np.genfromtxt('resources/data.txt', delimiter=',').astype('int16')\n",
    "print(data_from_file)"
   ]
  },
  {
   "cell_type": "markdown",
   "id": "faa7bd97-c5ee-43b1-baa0-949721f192ba",
   "metadata": {},
   "source": [
    "# Boolean masking & Advanced indexing"
   ]
  },
  {
   "cell_type": "code",
   "execution_count": 291,
   "id": "47505352-1d33-40f6-9a15-0f116e55f9c5",
   "metadata": {},
   "outputs": [
    {
     "data": {
      "text/plain": [
       "array([196,  75, 766,  75,  55, 999,  78,  76,  88], dtype=int16)"
      ]
     },
     "execution_count": 291,
     "metadata": {},
     "output_type": "execute_result"
    }
   ],
   "source": [
    "data_from_file[data_from_file > 50]"
   ]
  },
  {
   "cell_type": "code",
   "execution_count": 292,
   "id": "0b373ad8-df9b-4627-955d-d95fb7535b04",
   "metadata": {},
   "outputs": [
    {
     "data": {
      "text/plain": [
       "array([ True,  True,  True])"
      ]
     },
     "execution_count": 292,
     "metadata": {},
     "output_type": "execute_result"
    }
   ],
   "source": [
    "np.any(data_from_file > 50, axis=1)"
   ]
  },
  {
   "cell_type": "code",
   "execution_count": 295,
   "id": "8e97cc05-01ff-43eb-802d-f903977dee46",
   "metadata": {},
   "outputs": [
    {
     "data": {
      "text/plain": [
       "array([False, False, False, False,  True, False, False, False, False,\n",
       "       False, False, False, False, False, False, False, False, False])"
      ]
     },
     "execution_count": 295,
     "metadata": {},
     "output_type": "execute_result"
    }
   ],
   "source": [
    "np.all(data_from_file > 50, axis=0)"
   ]
  },
  {
   "cell_type": "code",
   "execution_count": 298,
   "id": "0fd4dc8d-1710-410c-89ee-6d95605b6917",
   "metadata": {},
   "outputs": [
    {
     "data": {
      "text/plain": [
       "array([75, 75, 55, 78, 76, 88], dtype=int16)"
      ]
     },
     "execution_count": 298,
     "metadata": {},
     "output_type": "execute_result"
    }
   ],
   "source": [
    "data_from_file[(data_from_file > 50) & (data_from_file < 100)]"
   ]
  },
  {
   "cell_type": "code",
   "execution_count": null,
   "id": "fd1c46ae-5147-47f6-8a87-b640a1ccb214",
   "metadata": {},
   "outputs": [],
   "source": [
    "\n",
    "\n",
    "\n",
    "\n",
    "\n",
    "\n",
    "\n",
    "\n",
    "\n"
   ]
  },
  {
   "cell_type": "markdown",
   "id": "2824234f-6ba1-4e93-badc-283afe651eb3",
   "metadata": {},
   "source": [
    "![alternative text](../resources/question.png)"
   ]
  },
  {
   "cell_type": "code",
   "execution_count": 299,
   "id": "4c89257c-2c16-4d54-a0b1-85af3809e6fc",
   "metadata": {},
   "outputs": [],
   "source": [
    "question_arr = np.array([\n",
    "    [1,2,3,4,5],\n",
    "    [6,7,8,9,10],\n",
    "    [11,12,13,14,15],\n",
    "    [16,17,18,19,20],\n",
    "    [21,22,23,24,25],\n",
    "    [26,27,28,29,30]\n",
    "]) "
   ]
  },
  {
   "cell_type": "code",
   "execution_count": 301,
   "id": "2be59dc2-d130-4144-89c6-535cf3f7d6ed",
   "metadata": {},
   "outputs": [
    {
     "data": {
      "text/plain": [
       "array([ 2,  8, 14, 20])"
      ]
     },
     "execution_count": 301,
     "metadata": {},
     "output_type": "execute_result"
    }
   ],
   "source": [
    "question_arr[\n",
    "    [0,1,2,3],\n",
    "    [1,2,3,4]\n",
    "]"
   ]
  },
  {
   "cell_type": "code",
   "execution_count": null,
   "id": "a893dfec-0fbc-4c95-ab61-b349fd786330",
   "metadata": {},
   "outputs": [],
   "source": []
  }
 ],
 "metadata": {
  "kernelspec": {
   "display_name": "Python 3 (ipykernel)",
   "language": "python",
   "name": "python3"
  },
  "language_info": {
   "codemirror_mode": {
    "name": "ipython",
    "version": 3
   },
   "file_extension": ".py",
   "mimetype": "text/x-python",
   "name": "python",
   "nbconvert_exporter": "python",
   "pygments_lexer": "ipython3",
   "version": "3.10.11"
  }
 },
 "nbformat": 4,
 "nbformat_minor": 5
}
