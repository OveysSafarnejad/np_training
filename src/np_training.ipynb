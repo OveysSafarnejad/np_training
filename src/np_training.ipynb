{
 "cells": [
  {
   "cell_type": "code",
   "execution_count": 2,
   "id": "57af7ac0-03e3-41a9-b097-ab43c10532d8",
   "metadata": {},
   "outputs": [],
   "source": [
    "import numpy as np\n"
   ]
  },
  {
   "cell_type": "markdown",
   "id": "6a6e5f02-5402-4af8-976c-db6907d066a8",
   "metadata": {},
   "source": [
    "# NUMPY\n",
    "\n",
    "## Numpy is multidimentional array processing open source package, which is suitable for mathematical operations on arrays and linear algebra.\n",
    "\n",
    "## Numpy array is faster than python list, reason is :\n",
    "    1. Numpy uses fix types and less memory (less memory = faster read)\n",
    "        * Numpy by default uses int32 (4 bytes) for saving integers (the size is customizable)\n",
    "        * List uses a builtin int type which consists of 4 part (28 bytes)\n",
    "            . Size (4 bytes)\n",
    "            . Reference count (8 bytes)\n",
    "            . Object type (8 bytes)\n",
    "            . Object value (8 bytes)\n",
    "            \n",
    "    2. Every time we iterate over a numpy array python interpreter doesn't need type checking each time BUT in list for each item's type it should be checked\n",
    "\n",
    "    3. Numpy uses continues memory locations.\n",
    "        . In list, we have a list of references to diferent memory locations\n",
    "        . But a numpy array is just a reference to the first item and the others are next to each other.\n",
    "## Numpy array supports item wise methematical operations like np.array([1, 2]) * np.array([2, 3]) \n"
   ]
  },
  {
   "cell_type": "code",
   "execution_count": 30,
   "id": "9e32da73-daaf-49b3-b8e0-aaf057df9225",
   "metadata": {},
   "outputs": [],
   "source": [
    "int_arr = np.array([\n",
    "    [1.0, 2],\n",
    "    [3,5],\n",
    "    [6,7]\n",
    "], dtype='int16')"
   ]
  },
  {
   "cell_type": "code",
   "execution_count": 31,
   "id": "65746aa7-a426-415e-a7c6-970759d770d9",
   "metadata": {},
   "outputs": [
    {
     "data": {
      "text/plain": [
       "12"
      ]
     },
     "execution_count": 31,
     "metadata": {},
     "output_type": "execute_result"
    }
   ],
   "source": [
    "int_arr.ndim\n",
    "int_arr.shape\n",
    "int_arr.dtype\n",
    "int_arr.itemsize\n",
    "int_arr.size * data.itemsize\n",
    "int_arr.nbytes"
   ]
  },
  {
   "cell_type": "code",
   "execution_count": 35,
   "id": "82fcae32-d4df-4d96-ba77-80d24e7ae588",
   "metadata": {},
   "outputs": [],
   "source": [
    "float_arr = np.array([.5 , 1.1], dtype='float16')"
   ]
  },
  {
   "cell_type": "code",
   "execution_count": 40,
   "id": "d83023b0-0f7e-4c3e-a790-129e5f93f892",
   "metadata": {},
   "outputs": [
    {
     "data": {
      "text/plain": [
       "4"
      ]
     },
     "execution_count": 40,
     "metadata": {},
     "output_type": "execute_result"
    }
   ],
   "source": [
    "float_arr.dtype\n",
    "float_arr.itemsize\n",
    "float_arr.size * float_arr.itemsize\n",
    "float_arr.nbytes"
   ]
  },
  {
   "cell_type": "code",
   "execution_count": 45,
   "id": "10c12819-5560-4065-8526-06ddb0fde3b8",
   "metadata": {},
   "outputs": [],
   "source": [
    "d3_arr = np.array([\n",
    "    [[1,2,3], [4,5,6]],\n",
    "    [[7,8,9], [10,11,12]]\n",
    "])"
   ]
  },
  {
   "cell_type": "code",
   "execution_count": 48,
   "id": "2bac364c-0b6f-48c1-af9e-36e158578710",
   "metadata": {},
   "outputs": [
    {
     "data": {
      "text/plain": [
       "6"
      ]
     },
     "execution_count": 48,
     "metadata": {},
     "output_type": "execute_result"
    }
   ],
   "source": [
    "d3_arr[0,1,2]"
   ]
  },
  {
   "cell_type": "code",
   "execution_count": null,
   "id": "b6293942-8fd4-4b07-a755-449de56b7993",
   "metadata": {},
   "outputs": [],
   "source": []
  }
 ],
 "metadata": {
  "kernelspec": {
   "display_name": "Python 3 (ipykernel)",
   "language": "python",
   "name": "python3"
  },
  "language_info": {
   "codemirror_mode": {
    "name": "ipython",
    "version": 3
   },
   "file_extension": ".py",
   "mimetype": "text/x-python",
   "name": "python",
   "nbconvert_exporter": "python",
   "pygments_lexer": "ipython3",
   "version": "3.10.11"
  }
 },
 "nbformat": 4,
 "nbformat_minor": 5
}
